{
 "cells": [
  {
   "cell_type": "markdown",
   "id": "27ef1947",
   "metadata": {},
   "source": [
    "### 檔案開檔與讀檔：\n",
    "\n",
    "1. fhandler=open(檔名,模式,編碼)\n",
    "2. 讀檔(模式\"r\"): \n",
    "    * fhandler.read()全部讀出\n",
    "    * fhandler.readline()讀出一行\n",
    "    * fhandler.lines()把每一行放到串列中\n",
    "3. 檔案關閉fhandler.close()\n"
   ]
  },
  {
   "cell_type": "code",
   "execution_count": 2,
   "id": "4f68622c",
   "metadata": {},
   "outputs": [
    {
     "name": "stdout",
     "output_type": "stream",
     "text": [
      "\n",
      "679 510 815 583 993 802 572 687 519 891 727 934 518 942 587 799 \n",
      "510\n",
      "69 73 96 94 30 53 58 94 "
     ]
    }
   ],
   "source": [
    "filename = \"data201.txt\"\n",
    "fh = open(filename, \"r\" , encoding=\"UTF-8\")\n",
    "data = fh.read()\n",
    "data1 = fh.read() #資料會被視為一個字串\n",
    "fh.seek(7) #資料指標指向位置7\n",
    "data2 = fh.read() #從檔案指標位置7開始抓資料\n",
    "\n",
    "fh.close()\n",
    "\n",
    "data.strip() #去掉最後斷行\n",
    "print(data1)\n",
    "#print(\"=\"*60)\n",
    "#print(data2)\n",
    "\n",
    "#印出資料數值>500\n",
    "t=[]\n",
    "m=data.split()\n",
    "for i in m:\n",
    "    if int(i)>500:\n",
    "        t.append(i)\n",
    "        print(i ,end=\" \")\n",
    "print()\n",
    "print(min(t))\n",
    "m=data.split()\n",
    "for i in m:\n",
    "    if int(i)<100:\n",
    "        print(i ,end=\" \")"
   ]
  },
  {
   "cell_type": "code",
   "execution_count": null,
   "id": "e9b1859b",
   "metadata": {},
   "outputs": [],
   "source": [
    "# CSV DATA\n",
    "\n",
    "import csv #載入CSV函式\n"
   ]
  },
  {
   "cell_type": "code",
   "execution_count": 22,
   "id": "88e8f26e",
   "metadata": {},
   "outputs": [
    {
     "name": "stdout",
     "output_type": "stream",
     "text": [
      "Writing data.csv\n"
     ]
    }
   ],
   "source": [
    "%%file data.csv\n",
    "'A',100,-142\n",
    "'B',12,-153\n",
    "'C',14,-160\n",
    "'D',99,99"
   ]
  },
  {
   "cell_type": "code",
   "execution_count": 24,
   "id": "5f576d50",
   "metadata": {},
   "outputs": [
    {
     "name": "stdout",
     "output_type": "stream",
     "text": [
      "<_csv.reader object at 0x7fe62e15a580>\n",
      "[\"'A'\", '100', '-142']\n",
      "[\"'B'\", '12', '-153']\n",
      "[\"'C'\", '14', '-160']\n",
      "[\"'D'\", '99', '99']\n"
     ]
    }
   ],
   "source": [
    "fp = open(\"data.csv\")\n",
    "r = csv.reader(fp) #CSV中的資料讀去泣，讀取fp檔案指標目前只在的位置\n",
    "print(r) #csv.reader object (資料在記憶體的起始位置)\n",
    "\n",
    "for row in r:\n",
    "    print(row) #印出csv中的資料\n",
    "    \n",
    "fp.close()"
   ]
  },
  {
   "cell_type": "code",
   "execution_count": 30,
   "id": "62e0380c",
   "metadata": {},
   "outputs": [
    {
     "name": "stdout",
     "output_type": "stream",
     "text": [
      "['A', 100, -142]\n",
      "['B', 12, -153]\n",
      "['C', 14, -160]\n",
      "['D', 99, 99]\n"
     ]
    }
   ],
   "source": [
    "fp = open(\"data.csv\",\"r\")\n",
    "r = csv.reader(fp)\n",
    "for row2 in r :\n",
    "    row2 = list(map(str.strip,row2))\n",
    "    row2[0] = row2[0].strip(\"''\")\n",
    "    row2[1] = int(row2[1])\n",
    "    row2[2] = int(row2[2])\n",
    "    print(row2)\n",
    "fp.close()"
   ]
  },
  {
   "cell_type": "code",
   "execution_count": 31,
   "id": "1f75e427",
   "metadata": {},
   "outputs": [],
   "source": [
    "data = [(\"A\",\"apple\",300,30),\n",
    "        (\"B\",\"banana\",500,15),\n",
    "        (\"C\",\"cat\",20,100000),\n",
    "        (\"D\",\"dog\",50,50000)]\n",
    "\n",
    "fp = open(\"data_out.csv\", 'w') #檔案寫入\n",
    "w  = csv.writer(fp) #使用csv寫入器\n",
    "w.writerows(data) #一次寫入多行資料\n",
    "\n",
    "fp.close()"
   ]
  },
  {
   "cell_type": "code",
   "execution_count": 32,
   "id": "894ce87b",
   "metadata": {},
   "outputs": [],
   "source": [
    "import os #使用系統Operating system 作業系統中的函式庫\n",
    "\n",
    "os.remove(\"data.csv\")\n",
    "os.remove(\"data_out.csv\")"
   ]
  },
  {
   "cell_type": "code",
   "execution_count": null,
   "id": "1ed595c2",
   "metadata": {},
   "outputs": [],
   "source": []
  }
 ],
 "metadata": {
  "kernelspec": {
   "display_name": "Python 3 (ipykernel)",
   "language": "python",
   "name": "python3"
  },
  "language_info": {
   "codemirror_mode": {
    "name": "ipython",
    "version": 3
   },
   "file_extension": ".py",
   "mimetype": "text/x-python",
   "name": "python",
   "nbconvert_exporter": "python",
   "pygments_lexer": "ipython3",
   "version": "3.11.7"
  }
 },
 "nbformat": 4,
 "nbformat_minor": 5
}
