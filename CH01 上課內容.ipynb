{
 "cells": [
  {
   "cell_type": "markdown",
   "id": "e75bbeaf",
   "metadata": {},
   "source": [
    "1. 高中生小論文\n",
    "2. 檢定\n",
    "    \n",
    "1. txt 與cvs開始讀出寫入\n",
    "2. 處理資料：numpy/panda\n",
    "3. 資料視覺化：matplotlib\n",
    "4. PDF/JSON/XML不同資料類型的處理\n",
    "5. 網頁資料擷取\n",
    "6. 機器學習演算法"
   ]
  },
  {
   "cell_type": "markdown",
   "id": "e9fd94e6",
   "metadata": {},
   "source": [
    "### 資料分析步驟: ###\n",
    "\n",
    "1. 取得資料： txt(離線）,**csv（離線）**, pdf（離線）, **網頁擷取（互動式即時資料）**,JSON, XML\n",
    "2. 處理資料： 資料放到資料容器中，處理（去掉極值）\n",
    "3. 初步資料分析： 欄位/數值/（最大最小平均變異數分佈）（從資料中看什麼？假設->驗證->推論->預測）\n",
    "4. 機器學習演算法（迴歸分析）\n",
    "5. 結論/資料視覺化"
   ]
  },
  {
   "cell_type": "markdown",
   "id": "8f8ce211",
   "metadata": {},
   "source": [
    "### 資料集\n",
    "\n",
    "    1. 欄位說明清楚（6-15）\n",
    "    2. 看資料及內容--->心中有所推論\n",
    "    3. 資料集 -> 需要時間序列 （24小時/1天/一個星期的資料）\n",
    "    "
   ]
  },
  {
   "cell_type": "markdown",
   "id": "6b37322b",
   "metadata": {},
   "source": [
    "1. 資料及位置下載位置(URL): 論文的reference\n",
    "2. 打開資料集 (說明欄位)\n",
    "3. 時間範圍，預估需要幾天\n",
    "4. 想知道哪三件事情："
   ]
  }
 ],
 "metadata": {
  "kernelspec": {
   "display_name": "Python 3 (ipykernel)",
   "language": "python",
   "name": "python3"
  },
  "language_info": {
   "codemirror_mode": {
    "name": "ipython",
    "version": 3
   },
   "file_extension": ".py",
   "mimetype": "text/x-python",
   "name": "python",
   "nbconvert_exporter": "python",
   "pygments_lexer": "ipython3",
   "version": "3.11.7"
  }
 },
 "nbformat": 4,
 "nbformat_minor": 5
}
