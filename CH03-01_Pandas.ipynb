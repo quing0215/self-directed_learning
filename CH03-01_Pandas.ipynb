{
 "cells": [
  {
   "cell_type": "raw",
   "id": "4b83e799",
   "metadata": {},
   "source": [
    "1. Pandas 被視為Numpy結構化的增強版本，row與col採用標籤而不是簡單的整數索引\n",
    "2. Pandas 三種資料結構: Series(一維陣列), DataFrame(多維陣列), Index"
   ]
  },
  {
   "cell_type": "code",
   "execution_count": 1,
   "id": "1793a9f4",
   "metadata": {},
   "outputs": [
    {
     "name": "stdout",
     "output_type": "stream",
     "text": [
      "0    0.250\n",
      "1    0.500\n",
      "2    0.075\n",
      "3    1.000\n",
      "dtype: float64 <class 'pandas.core.series.Series'>\n",
      "[0.25  0.5   0.075 1.   ]\n",
      "RangeIndex(start=0, stop=4, step=1)\n",
      "0.5\n",
      "1    0.500\n",
      "2    0.075\n",
      "dtype: float64\n"
     ]
    }
   ],
   "source": [
    "import numpy as np\n",
    "import pandas as pd\n",
    "\n",
    "data = pd.Series([0.25,0.5,.075,1.0]) #因為沒有給標籤採用數字型索引代替\n",
    "print(data,type(data))\n",
    "print(data.values) #取得Pandas物件的資料內容\n",
    "print(data.index)  #取得Pandas資料的標籤欄位\n",
    "print(data[1])     #用標籤欄位(目前為索引值)來取得資料\n",
    "print(data[1:3:1]) #支援用slicing用法來取得部分串列"
   ]
  },
  {
   "cell_type": "code",
   "execution_count": 3,
   "id": "1e21e4ed",
   "metadata": {},
   "outputs": [
    {
     "name": "stdout",
     "output_type": "stream",
     "text": [
      "A     7\n",
      "B     8\n",
      "C     4\n",
      "D     2\n",
      "E    11\n",
      "dtype: int64\n",
      "[ 7  8  4  2 11]\n",
      "Index(['A', 'B', 'C', 'D', 'E'], dtype='object')\n",
      "8\n"
     ]
    }
   ],
   "source": [
    "#Pandas關聯欄位資料\n",
    "\n",
    "data = pd.Series([7, 8, 4, 2, 11], index=('A','B','C','D','E'))\n",
    "print(data)\n",
    "print(data.values) \n",
    "print(data.index)  \n",
    "print(data['B'])     \n"
   ]
  },
  {
   "cell_type": "code",
   "execution_count": 10,
   "id": "8875a207",
   "metadata": {},
   "outputs": [
    {
     "name": "stdout",
     "output_type": "stream",
     "text": [
      "Kaohsuing    200\n",
      "Hualine       30\n",
      "Taipei       800\n",
      "Pingtung      30\n",
      "dtype: int64\n",
      "[200  30 800  30]\n",
      "Index(['Kaohsuing', 'Hualine', 'Taipei', 'Pingtung'], dtype='object')\n",
      "200\n",
      "Kaohsuing    200\n",
      "Hualine       30\n",
      "Taipei       800\n",
      "dtype: int64\n"
     ]
    }
   ],
   "source": [
    "#Pandas 支援Python字典資料的轉換與對應\n",
    "\n",
    "population = {'Kaohsuing': 200,\"Hualine\": 30,\"Taipei\": 800,\"Pingtung\": 30}\n",
    "data       = pd.Series(population)\n",
    "print(data)\n",
    "print(data.values)\n",
    "print(data.index)\n",
    "print(data['Kaohsuing']) #支援indexing\n",
    "print(data['Kaohsuing':'Taipei']) #支援slicing"
   ]
  },
  {
   "cell_type": "code",
   "execution_count": 14,
   "id": "905ece68",
   "metadata": {},
   "outputs": [
    {
     "name": "stdout",
     "output_type": "stream",
     "text": [
      "0    2\n",
      "1    4\n",
      "2    6\n",
      "dtype: int64\n",
      "A    5\n",
      "B    5\n",
      "C    5\n",
      "dtype: int64\n",
      "2    a\n",
      "1    b\n",
      "3    c\n",
      "dtype: object\n",
      "3    c\n",
      "2    a\n",
      "dtype: object\n"
     ]
    }
   ],
   "source": [
    "#建構Series物件:\n",
    "\n",
    "a = pd.Series([2,4,6])\n",
    "print(a)\n",
    "\n",
    "b = pd.Series(5, index=['A','B','C'])\n",
    "print(b)\n",
    "\n",
    "c = pd.Series({2:'a', 1:'b', 3:'c'})\n",
    "print(c)\n",
    "\n",
    "d = pd.Series({2:'a', 1:'b', 3:'c'}, index=[3,2])\n",
    "print(d)"
   ]
  },
  {
   "cell_type": "code",
   "execution_count": 17,
   "id": "b7bcb011",
   "metadata": {},
   "outputs": [
    {
     "name": "stdout",
     "output_type": "stream",
     "text": [
      "CA    423967\n",
      "Tx    695662\n",
      "NY    141297\n",
      "FL    170312\n",
      "IL    149995\n",
      "dtype: int64\n"
     ]
    }
   ],
   "source": [
    "area_dict = {'CA':423967, 'Tx':695662, 'NY':141297, 'FL':170312, 'IL':149995}\n",
    "area = pd.Series(area_dict)\n",
    "print(area)"
   ]
  },
  {
   "cell_type": "code",
   "execution_count": 18,
   "id": "798c4e55",
   "metadata": {},
   "outputs": [
    {
     "name": "stdout",
     "output_type": "stream",
     "text": [
      "          人口    區域大小\n",
      "CA  39250017  423967\n",
      "Tx  27862596  695662\n",
      "NY  19745289  141297\n",
      "FL  20612439  170312\n",
      "IL  12801539  149995\n"
     ]
    }
   ],
   "source": [
    "population_dict = {'CA':39250017, 'Tx':27862596, 'NY':19745289, 'FL':20612439, 'IL':12801539}\n",
    "population      = pd.Series(population_dict)\n",
    "\n",
    "states = pd.DataFrame({'人口':population, '區域大小':area})\n",
    "print(states)"
   ]
  },
  {
   "cell_type": "code",
   "execution_count": 23,
   "id": "6698101e",
   "metadata": {},
   "outputs": [
    {
     "name": "stdout",
     "output_type": "stream",
     "text": [
      "Index(['CA', 'Tx', 'NY', 'FL', 'IL'], dtype='object')\n",
      "Index(['人口', '區域大小'], dtype='object')\n",
      "149995\n"
     ]
    }
   ],
   "source": [
    "print(states.index)\n",
    "print(states.columns)\n",
    "print(states['區域大小']['IL']) #取資料: dataFrame[column][index]"
   ]
  },
  {
   "cell_type": "code",
   "execution_count": 24,
   "id": "311e6a5d",
   "metadata": {},
   "outputs": [
    {
     "name": "stdout",
     "output_type": "stream",
     "text": [
      "      people\n",
      "CA  39250017\n",
      "Tx  27862596\n",
      "NY  19745289\n",
      "FL  20612439\n",
      "IL  12801539\n"
     ]
    }
   ],
   "source": [
    "#DataFrame 建構: 採用多個Series以相同的key值做組合\n",
    "#DataFrame是Series的集合單列DataFrame可以從單個Series建構\n",
    "\n",
    "p = pd.DataFrame(population, columns=['people'])\n",
    "print(p)"
   ]
  },
  {
   "cell_type": "code",
   "execution_count": 30,
   "id": "f484c630",
   "metadata": {},
   "outputs": [
    {
     "name": "stdout",
     "output_type": "stream",
     "text": [
      "   a   b\n",
      "0  3   9\n",
      "1  4  16\n",
      "2  5  25\n"
     ]
    }
   ],
   "source": [
    "data = [{'a':i, 'b':i**2} for i in range(3,6)]\n",
    "res = pd.DataFrame(data)\n",
    "print(res)"
   ]
  },
  {
   "cell_type": "code",
   "execution_count": 31,
   "id": "3e397399",
   "metadata": {},
   "outputs": [
    {
     "name": "stdout",
     "output_type": "stream",
     "text": [
      "     a  b    d\n",
      "0  1.0  3  NaN\n",
      "1  NaN  5  9.0\n"
     ]
    }
   ],
   "source": [
    "data = [{'a':1, 'b':3}, {'b':5, 'd':9}]\n",
    "res = pd.DataFrame(data)\n",
    "print(res)"
   ]
  },
  {
   "cell_type": "code",
   "execution_count": null,
   "id": "047180c9",
   "metadata": {},
   "outputs": [],
   "source": []
  }
 ],
 "metadata": {
  "kernelspec": {
   "display_name": "Python 3 (ipykernel)",
   "language": "python",
   "name": "python3"
  },
  "language_info": {
   "codemirror_mode": {
    "name": "ipython",
    "version": 3
   },
   "file_extension": ".py",
   "mimetype": "text/x-python",
   "name": "python",
   "nbconvert_exporter": "python",
   "pygments_lexer": "ipython3",
   "version": "3.11.7"
  }
 },
 "nbformat": 4,
 "nbformat_minor": 5
}
