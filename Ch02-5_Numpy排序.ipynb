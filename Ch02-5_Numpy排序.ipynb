{
 "cells": [
  {
   "cell_type": "code",
   "execution_count": 1,
   "id": "cf140754",
   "metadata": {},
   "outputs": [
    {
     "name": "stdout",
     "output_type": "stream",
     "text": [
      "[[9 9 9]\n",
      " [9 9 9]\n",
      " [9 9 9]]\n",
      "[[1. 0. 0. 0. 0.]\n",
      " [0. 1. 0. 0. 0.]\n",
      " [0. 0. 1. 0. 0.]\n",
      " [0. 0. 0. 1. 0.]\n",
      " [0. 0. 0. 0. 1.]]\n"
     ]
    }
   ],
   "source": [
    "#np.full((shape), value): 將陣列元素作填充\n",
    "\n",
    "#建立一個3x3矩陣，裡面數直接為9\n",
    "\n",
    "import numpy as np\n",
    "a = np.full((3,3),9)\n",
    "print(a)\n",
    "\n",
    "b = np.identity(5) #產生對角線為一，其他元素為0的array\n",
    "print(b)"
   ]
  },
  {
   "cell_type": "code",
   "execution_count": 9,
   "id": "ff6fb82d",
   "metadata": {},
   "outputs": [
    {
     "name": "stdout",
     "output_type": "stream",
     "text": [
      "[1 1 1 2 2 2 3 3 3 4 4 4]\n",
      "[[ 1  2  3  4]\n",
      " [ 1  2  3  4]\n",
      " [ 1  2  3  4]\n",
      " [ 4  5  6  7]\n",
      " [ 4  5  6  7]\n",
      " [ 4  5  6  7]\n",
      " [ 8  9 10 11]\n",
      " [ 8  9 10 11]\n",
      " [ 8  9 10 11]]\n",
      "[[4 5 6 7]\n",
      " [4 5 6 7]\n",
      " [4 5 6 7]\n",
      " [4 5 6 7]\n",
      " [4 5 6 7]]\n"
     ]
    }
   ],
   "source": [
    "arr = np.array([[1,2,3,4], [4,5,6,7], [8,9,10,11]])\n",
    "c   = np.repeat(arr[0], 3, axis=0)\n",
    "d   = np.repeat(arr   , 3, axis=0)\n",
    "print(c)\n",
    "print(d)\n",
    "\n",
    "arr2 = arr[1]\n",
    "e    = np.repeat([arr2], 5, axis=0)\n",
    "print(e)"
   ]
  },
  {
   "cell_type": "code",
   "execution_count": 11,
   "id": "f5f190ce",
   "metadata": {},
   "outputs": [
    {
     "name": "stdout",
     "output_type": "stream",
     "text": [
      "[1 2 3 4 5 6]\n"
     ]
    }
   ],
   "source": [
    "#numpy排序\n",
    "\n",
    "x1 = np.array([2,1,4,6,3,5])\n",
    "x1.sort() #針對numpy array做排序\n",
    "print(x1)"
   ]
  },
  {
   "cell_type": "code",
   "execution_count": 12,
   "id": "5cc29764",
   "metadata": {},
   "outputs": [
    {
     "name": "stdout",
     "output_type": "stream",
     "text": [
      "[2 1 4 6 3 5]\n",
      "[1 0 4 2 5 3]\n"
     ]
    }
   ],
   "source": [
    "x2 = np.array([2,1,4,6,3,5])\n",
    "pos = x2.argsort() #第一個元素要的最小索引值，第二個元素要放的第二個最小元素索引值\n",
    "print(x2)\n",
    "print(pos)"
   ]
  },
  {
   "cell_type": "code",
   "execution_count": 18,
   "id": "8dbbfb22",
   "metadata": {},
   "outputs": [
    {
     "name": "stdout",
     "output_type": "stream",
     "text": [
      "[[8 0 8 5 7 1]\n",
      " [2 8 3 9 8 6]\n",
      " [7 2 0 9 1 4]\n",
      " [7 4 7 7 2 6]]\n",
      "\n",
      "[[2 0 0 5 1 1]\n",
      " [7 2 3 7 2 4]\n",
      " [7 4 7 9 7 6]\n",
      " [8 8 8 9 8 6]]\n",
      "\n",
      "[[0 0 1 1 2 5]\n",
      " [2 2 3 4 7 7]\n",
      " [4 6 7 7 7 9]\n",
      " [6 8 8 8 8 9]]\n"
     ]
    }
   ],
   "source": [
    "#numpy使用axis參數對多維陣列進行行排序，或是列排序\n",
    "\n",
    "x = np.random.randint(0,10,(4,6))\n",
    "print(x)\n",
    "print()\n",
    "\n",
    "x.sort(axis=0) #以col做排序\n",
    "print(x)\n",
    "print()\n",
    "\n",
    "x.sort(axis=1) #以row做排序\n",
    "print(x)"
   ]
  },
  {
   "cell_type": "code",
   "execution_count": 19,
   "id": "d98e6e1a",
   "metadata": {},
   "outputs": [
    {
     "name": "stdout",
     "output_type": "stream",
     "text": [
      "[2 1 3 4 5 6 7]\n",
      "[1 2 3 4 5 6 7]\n"
     ]
    }
   ],
   "source": [
    "#部分排序: 分區 (希望在陣列中找到最小的k個值)\n",
    "#np.partition: 給一個陣列跟一個數字\n",
    "\n",
    "x = np.array([7,2,3,1,6,5,4])\n",
    "x.partition(4)\n",
    "print(x)\n",
    "\n",
    "x.partition(2)\n",
    "print(x)"
   ]
  },
  {
   "cell_type": "code",
   "execution_count": null,
   "id": "7813b3c5",
   "metadata": {},
   "outputs": [],
   "source": []
  }
 ],
 "metadata": {
  "kernelspec": {
   "display_name": "Python 3 (ipykernel)",
   "language": "python",
   "name": "python3"
  },
  "language_info": {
   "codemirror_mode": {
    "name": "ipython",
    "version": 3
   },
   "file_extension": ".py",
   "mimetype": "text/x-python",
   "name": "python",
   "nbconvert_exporter": "python",
   "pygments_lexer": "ipython3",
   "version": "3.11.7"
  }
 },
 "nbformat": 4,
 "nbformat_minor": 5
}
