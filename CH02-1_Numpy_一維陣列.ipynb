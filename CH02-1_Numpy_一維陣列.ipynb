{
 "cells": [
  {
   "cell_type": "code",
   "execution_count": 1,
   "id": "6cb62a3f",
   "metadata": {},
   "outputs": [
    {
     "name": "stdout",
     "output_type": "stream",
     "text": [
      "[1 2 3 4] <class 'numpy.ndarray'>\n",
      "[0 0 0 0] <class 'numpy.ndarray'>\n"
     ]
    }
   ],
   "source": [
    "#建立numpy一維陣列:\n",
    "\n",
    "import numpy as np\n",
    "\n",
    "a = np.array([1,2,3,4]) #經由傳送List或是tuple給np.array 可以建立一維陣列\n",
    "b = np.array((0,0,0,0))\n",
    "\n",
    "print(a,type(a))\n",
    "print(b,type(b))"
   ]
  },
  {
   "cell_type": "code",
   "execution_count": 2,
   "id": "b9abb0a4",
   "metadata": {},
   "outputs": [
    {
     "name": "stdout",
     "output_type": "stream",
     "text": [
      "[ 1  2 -8]\n",
      "[30. 20. 10.]\n"
     ]
    }
   ],
   "source": [
    "#numpy data type常用的資料類型: booleans(bool),integer(int), unsigned in tegers(uint),float(float),complex\n",
    "\n",
    "c = np.array([1.34,2.41,-8.76],dtype='int')\n",
    "print(c)\n",
    "\n",
    "d = np.array([30,20,10],dtype='float')\n",
    "print(d)"
   ]
  },
  {
   "cell_type": "code",
   "execution_count": 3,
   "id": "f23914a7",
   "metadata": {},
   "outputs": [
    {
     "name": "stdout",
     "output_type": "stream",
     "text": [
      "[ 3  6  9 12 15 18 21 24 27]\n",
      "[11 22 33 44 55 66 77 88 99]\n"
     ]
    }
   ],
   "source": [
    "#np.arange() 給特定數字的範圍來建立array,來加入python range建立array\n",
    "\n",
    "a = np.arange(3,30,3)\n",
    "print(a)\n",
    "\n",
    "b = np.arange(11,100,11)\n",
    "print(b)"
   ]
  },
  {
   "cell_type": "code",
   "execution_count": 4,
   "id": "8f86b977",
   "metadata": {},
   "outputs": [
    {
     "name": "stdout",
     "output_type": "stream",
     "text": [
      "[ 0.   2.5  5.   7.5 10. ]\n",
      "[ 0.  3.  6.  9. 12. 15. 18.]\n"
     ]
    }
   ],
   "source": [
    "#np.linspace:建立一個間隔相同的的陣列 (start, end, 產生幾個)\n",
    "c = np.linspace(0,10,5) #間隔計算: (10-0)/4 = 2.5\n",
    "print(c)\n",
    "\n",
    "d = np.linspace(0,18,7)\n",
    "print(d)"
   ]
  },
  {
   "cell_type": "code",
   "execution_count": 5,
   "id": "656087af",
   "metadata": {},
   "outputs": [
    {
     "name": "stdout",
     "output_type": "stream",
     "text": [
      "[ 3  6  9 12 15 18 21 24 27]\n",
      "3\n",
      "27\n",
      "[ 9 12 15 18]\n",
      "[ 6 12 18 24]\n"
     ]
    }
   ],
   "source": [
    "# numpy array以索引index以及slicing來去存取元素\n",
    "\n",
    "myarray =np.arange(3,30,3)\n",
    "print(myarray)\n",
    "print(myarray[0]) #取得第一個元素\n",
    "print(myarray[-1]) #取最後一個元素\n",
    "print(myarray[2:6]) \n",
    "print(myarray[1:-1:2]) # slicing[start,stop but not in incloud,step]走兩步拿一個"
   ]
  },
  {
   "cell_type": "code",
   "execution_count": 6,
   "id": "b6e15025",
   "metadata": {},
   "outputs": [
    {
     "name": "stdout",
     "output_type": "stream",
     "text": [
      "[0 0 0 0 0 0]\n",
      "[0. 0. 0. 0. 0. 0.]\n",
      "[1 1 1 1 1 1]\n",
      "[1. 1. 1. 1. 1. 1.]\n"
     ]
    }
   ],
   "source": [
    "#np.zero:建立全為0的陣列\n",
    "\n",
    "myarray = np.zeros(6,dtype='int')\n",
    "print(myarray)\n",
    "myarray = np.zeros(6)\n",
    "print(myarray)\n",
    "\n",
    "myarray = np.ones(6,dtype='int')\n",
    "print(myarray)\n",
    "myarray = np.ones(6)\n",
    "print(myarray)"
   ]
  },
  {
   "cell_type": "code",
   "execution_count": 7,
   "id": "5338f76b",
   "metadata": {},
   "outputs": [
    {
     "name": "stdout",
     "output_type": "stream",
     "text": [
      "[ 3  6  9 12 15 18 21 24 27]\n",
      "9\n",
      "9\n",
      "int64\n",
      "int64\n",
      "1\n",
      "(9,)\n"
     ]
    }
   ],
   "source": [
    "myarray = np.arange(3,30,3)\n",
    "print(myarray)\n",
    "\n",
    "print(len(myarray)) #陣列中有幾個元素\n",
    "print(myarray.size) #陣列中有幾個元素\n",
    "\n",
    "print(myarray.dtype) #陣列中的資料型態\n",
    "print(myarray.dtype.name) #陣列中的資料型態\n",
    "print(myarray.ndim) #陣列維度\n",
    "print(myarray.shape) #(9,): 一為陣列9個元素"
   ]
  }
 ],
 "metadata": {
  "kernelspec": {
   "display_name": "Python 3 (ipykernel)",
   "language": "python",
   "name": "python3"
  },
  "language_info": {
   "codemirror_mode": {
    "name": "ipython",
    "version": 3
   },
   "file_extension": ".py",
   "mimetype": "text/x-python",
   "name": "python",
   "nbconvert_exporter": "python",
   "pygments_lexer": "ipython3",
   "version": "3.11.7"
  }
 },
 "nbformat": 4,
 "nbformat_minor": 5
}
