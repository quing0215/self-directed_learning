{
 "cells": [
  {
   "cell_type": "code",
   "execution_count": null,
   "id": "0636df69",
   "metadata": {},
   "outputs": [],
   "source": [
    "• sno(站點代號)、\n",
    "• sna(中文場站名稱)、\n",
    "• tot(場站總停車格)、\n",
    "• sbi(可借車位數)、\n",
    "• sarea(中文場站區域)、\n",
    "• mday(資料更新時間)、\n",
    "• lat(緯度)、\n",
    "• lng(經度)、\n",
    "• ar(中文地址)、\n",
    "• sareaen(英文場站區域)、 • snaen(英文場站名稱)\n",
    "• aren(英文地址)\n",
    "• bemp(可還空位數)\n",
    "• act(場站是否暫停營運)"
   ]
  },
  {
   "cell_type": "code",
   "execution_count": 13,
   "id": "b9edd58a",
   "metadata": {},
   "outputs": [
    {
     "name": "stdout",
     "output_type": "stream",
     "text": [
      "資料集比數: 495 欄位數: 14\n",
      "ubike總數 20158\n",
      "[16 20 12 34 23  2 31 12  5  0 26 28 14 18 13 31  8  0 27 30 10 21  0 16\n",
      " 14 22 22 47 45  2 30 26 37 31 21 32  0 28 22 32 11  2  0 27 15 15 23 18\n",
      " 29  2  6 18 14  6 12  9  1 35 37 13  7 31  2 21 22 16 21 11 26 26 16  3\n",
      " 40 19 18 10  7 26  7 27  4 14  6 26 27 21 13 25 22 14 16  2  2 25 17 14\n",
      "  2 10  1 25  0  2  0 16  0 14  0  3 10 32 13 15 25 10 27 16  0  2 20 25\n",
      " 27 29  1 32  3 22  9  6 29 16 29 25 29 34 13 12 26  0 17  3  0 23 23 19\n",
      " 27 20 18  5 15 35 11  0  5  6 15 34 41  0 18  0 14 16 13 23 14 17 18 19\n",
      " 38 14 25  0 10  7  1 18 16 26 20  8  0 17 14 12 35 13 10 10 11  0 11  1\n",
      " 14 37 24 11 21  5 39  7 37  0 13 27  6 28  4 17 16 12 19  6 25 12 18  9\n",
      "  3  1 24  9  4 32 19 26 18 16  8  8  5 26  8 28 24 12 26 22  2 29 30 23\n",
      " 25 20 12 12 31 22 20  4 25 10 13 17 19 10 14 18 10 12 34  4 22 16 12 12\n",
      " 16 37 19 13  9  9 18 16  9  6 21 18 10 25 12 10 20  4 22  3 14 37 45 10\n",
      " 13 14 28 15  0 22  6  7 22 12 18  0  8  9  6 18  6  9 22 19 11 21 18 31\n",
      "  9 21  1  1 14  0  5  0 11 21 16  2 10  5  7  0 24  5 10  2 16 21  3  9\n",
      " 12 11 23 24 22  6  5  6 22 16 13 18 26 12  2 14  6 14 14 14 12 25  4 20\n",
      " 12 10 13  4  1 25 27  9  6  1 10 19  5 12 20 18  9 14 13 12 18 11 23  7\n",
      " 11 15  1  6 15  4 11 24 20 19 11 18 31 21  0 24 13 15  0  5 25  1 35  1\n",
      " 10  6 13  4 26 11 27 18  8 10 21 18 14 19 24 13  6  5 16 26 13 14 10  3\n",
      " 10 12 22 17  4 32 35 11  5 26 14 17 16  2 33  8 11 17  9 10 19 25  4 14\n",
      "  6 17 32 22  9 34 10 17 22  9 12  9 22  9  7 16  8 21 22 18 15 15 18 15\n",
      "  2 12 12  6 17  6 15 24  7 13 11 13 17  3 24]\n",
      "ubike剩餘量 7497\n"
     ]
    }
   ],
   "source": [
    "import csv\n",
    "import numpy as np\n",
    "\n",
    "filename = \"data203_新北市公共自行車即時資訊.csv\"\n",
    "available = [] #欄位：sbi 代表站點目前可提供的ubike\n",
    "total = [] #欄位：'tot' 代表站點總共提供多少ubike\n",
    "\n",
    "with open(filename, 'r', encoding=\"utf-8\") as fp:\n",
    "    data = csv.reader(fp)\n",
    "    data = list(data)\n",
    "    data.pop(0) #去掉欄位\n",
    "    \n",
    "npdata = np.array(data)\n",
    "shape = npdata.shape\n",
    "print(\"資料集比數:\", shape[0], \"欄位數:\", shape[1])\n",
    "\n",
    "#ubike總量加總:\n",
    "total = npdata[:,2]\n",
    "total = total.astype(int) #astype將串列中的字串轉成int\n",
    "#print(total)\n",
    "print(\"ubike總數\",sum(total))\n",
    "\n",
    "#ubike現有量\n",
    "total = npdata[:,3] #\n",
    "total = total.astype(int) #astype將串列中的字串轉成int\n",
    "print(total)\n",
    "print(\"ubike剩餘量\",sum(total))"
   ]
  },
  {
   "cell_type": "code",
   "execution_count": 11,
   "id": "bd804ab4",
   "metadata": {},
   "outputs": [
    {
     "name": "stdout",
     "output_type": "stream",
     "text": [
      "47\n",
      "平均值0.05082978723404255\n"
     ]
    }
   ],
   "source": [
    "import csv\n",
    "import numpy as np\n",
    "\n",
    "filename = \"data204_全國環境輻射偵測即時資訊.csv\"\n",
    "with open(filename, 'r', encoding=\"utf-8\") as fp:\n",
    "    data = csv.reader(fp)\n",
    "    data = list(data)\n",
    "    data.pop(0) #去掉欄位\n",
    "#有幾個監測站\n",
    "st = []\n",
    "\n",
    "npdata = np.array(data)\n",
    "shape = npdata.shape\n",
    "print(shape[0])\n",
    "st = npdata[:,2]\n",
    "st = st.astype(float)\n",
    "#print(sum(st))\n",
    "print(f\"平均值{(sum(st)/shape[0])}\")"
   ]
  },
  {
   "cell_type": "code",
   "execution_count": null,
   "id": "3a602b1b",
   "metadata": {},
   "outputs": [],
   "source": []
  },
  {
   "cell_type": "code",
   "execution_count": null,
   "id": "99c4bdbb",
   "metadata": {},
   "outputs": [],
   "source": []
  }
 ],
 "metadata": {
  "kernelspec": {
   "display_name": "Python 3",
   "language": "python",
   "name": "python3"
  },
  "language_info": {
   "codemirror_mode": {
    "name": "ipython",
    "version": 3
   },
   "file_extension": ".py",
   "mimetype": "text/x-python",
   "name": "python",
   "nbconvert_exporter": "python",
   "pygments_lexer": "ipython3",
   "version": "3.8.8"
  }
 },
 "nbformat": 4,
 "nbformat_minor": 5
}
