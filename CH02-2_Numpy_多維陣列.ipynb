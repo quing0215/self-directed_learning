{
 "cells": [
  {
   "cell_type": "code",
   "execution_count": 1,
   "id": "55a3cf72",
   "metadata": {},
   "outputs": [
    {
     "name": "stdout",
     "output_type": "stream",
     "text": [
      "[[ 1  2  3  4]\n",
      " [ 5  6  7  8]\n",
      " [ 9 10 11 12]]\n",
      "(3, 4)\n",
      "int64\n",
      "12\n"
     ]
    }
   ],
   "source": [
    "# 1. 可以透過傳送多維串列(List)給np.array,透過np.shape取得array外型\n",
    "\n",
    "import numpy as np #載入numpy函式，簡短取名為np\n",
    "\n",
    "two = np.array([[1,2,3,4],[5,6,7,8],[9,10,11,12]])\n",
    "print(two)\n",
    "print(two.shape)\n",
    "print(two.dtype)\n",
    "print(two.size)"
   ]
  },
  {
   "cell_type": "code",
   "execution_count": 2,
   "id": "92408a28",
   "metadata": {},
   "outputs": [
    {
     "name": "stdout",
     "output_type": "stream",
     "text": [
      "[ 1  2  3  4  5  6  7  8  9 10 11 12 13 14 15 16 17 18 19 20 21 22 23 24\n",
      " 25]\n",
      "[[ 1  2  3  4  5]\n",
      " [ 6  7  8  9 10]\n",
      " [11 12 13 14 15]\n",
      " [16 17 18 19 20]\n",
      " [21 22 23 24 25]]\n",
      "15\n",
      "15\n",
      "(5, 5)\n"
     ]
    }
   ],
   "source": [
    "#2. 一維陣列，利用numpy.reshape，轉成需要的外型\n",
    "\n",
    "a = np.arange(1,26)\n",
    "print(a)\n",
    "b = a.reshape(5,5)\n",
    "print(b)\n",
    "\n",
    "print(b[2][4])\n",
    "print(b[2,4]) #存取b陣列中第二個row與第四個column\n",
    "print(b.shape)"
   ]
  },
  {
   "cell_type": "code",
   "execution_count": 3,
   "id": "7d4b3f69",
   "metadata": {},
   "outputs": [
    {
     "name": "stdout",
     "output_type": "stream",
     "text": [
      "[[ 1  2  3  4]\n",
      " [ 5  6  7  8]\n",
      " [ 9 10 11 12]]\n"
     ]
    }
   ],
   "source": [
    "#建立一個array，3x4array,裡面的直從1-12\n",
    "\n",
    "a = np.arange(1,13).reshape(3,4)\n",
    "print(a)"
   ]
  },
  {
   "cell_type": "code",
   "execution_count": 4,
   "id": "2c2e8313",
   "metadata": {},
   "outputs": [
    {
     "name": "stdout",
     "output_type": "stream",
     "text": [
      "[[ 1  2  3  4  5]\n",
      " [ 6  7  8  9 10]\n",
      " [11 12 13 14 15]\n",
      " [16 17 18 19 20]\n",
      " [21 22 23 24 25]]\n",
      "[[0. 0. 0. 0. 0.]\n",
      " [0. 0. 0. 0. 0.]\n",
      " [0. 0. 0. 0. 0.]\n",
      " [0. 0. 0. 0. 0.]\n",
      " [0. 0. 0. 0. 0.]]\n",
      "[2 3 4]\n",
      "[ 6 11 16]\n",
      "[[ 1  3  5]\n",
      " [11 13 15]\n",
      " [21 23 25]]\n",
      "[ 2  7 12 17 22]\n"
     ]
    }
   ],
   "source": [
    "# 多維陣列以indexing and slicing 來陣列元素的存取\n",
    "\n",
    "a = np.arange(1,26).reshape(5,5)\n",
    "print(a)\n",
    "\n",
    "b = np.zeros(25).reshape(5,5)\n",
    "print(b)\n",
    "\n",
    "print(a[0,1:4]) #取得row 0中，第一個-第三個元素產生的一維子陣列\n",
    "print(a[1:4,0]) #取得col 0中，第一個-第三個row,產生的一維子陣列\n",
    "print(a[::2,::2]) #取得一個二維子陣列，(0,2,4列) (0,2,4 column) => (0,0),(0,2)(0,4) (2,0),(2,2).....\n",
    "print(a[: ,1]) #獲取整個column產生的一維子陣列"
   ]
  },
  {
   "cell_type": "code",
   "execution_count": 5,
   "id": "d8f225c2",
   "metadata": {},
   "outputs": [
    {
     "name": "stdout",
     "output_type": "stream",
     "text": [
      "[[ 2  4  6  8 10 12]\n",
      " [14 16 18 20 22 24]\n",
      " [26 28 30 32 34 36]\n",
      " [38 40 42 44 46 48]\n",
      " [50 52 54 56 58 60]\n",
      " [62 64 66 68 70 72]]\n",
      "[38 40 42 44 46 48]\n",
      "[10 22 34 46 58 70]\n",
      "[[ 2  4  6]\n",
      " [14 16 18]\n",
      " [26 28 30]]\n",
      "[ 2  4  6  8 10 12 14 16 18 20]\n"
     ]
    }
   ],
   "source": [
    "#6x6矩陣，矩陣中的元素從二開始為偶數\n",
    "#(1) 取得row3的所有三素子陣列\n",
    "#(2) 取得col4的所有元素子陣列\n",
    "#(3) 取得左上角的3x3的二維子陣列\n",
    "#(4) 取得元素>20的元素\n",
    "\n",
    "a = np.arange(2,73,2).reshape(6,6)\n",
    "print(a)\n",
    "print(a[3,:]) \n",
    "print(a[: ,4]) \n",
    "print(a[:3,:3])\n",
    "a=a.reshape(1,36)\n",
    "print(a[0,:10])"
   ]
  }
 ],
 "metadata": {
  "kernelspec": {
   "display_name": "Python 3 (ipykernel)",
   "language": "python",
   "name": "python3"
  },
  "language_info": {
   "codemirror_mode": {
    "name": "ipython",
    "version": 3
   },
   "file_extension": ".py",
   "mimetype": "text/x-python",
   "name": "python",
   "nbconvert_exporter": "python",
   "pygments_lexer": "ipython3",
   "version": "3.11.7"
  }
 },
 "nbformat": 4,
 "nbformat_minor": 5
}
