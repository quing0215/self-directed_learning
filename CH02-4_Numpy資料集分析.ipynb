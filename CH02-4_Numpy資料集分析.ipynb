{
 "cells": [
  {
   "cell_type": "code",
   "execution_count": 3,
   "id": "ca199ef6",
   "metadata": {},
   "outputs": [
    {
     "name": "stdout",
     "output_type": "stream",
     "text": [
      "-1.00752965981524 0.1617223401818132 0.8858975045741182 0.9168955036812856 0.17729856138300057 -0.5982697952015227 -1.5281851671686677 1.3968452702607506 -0.052746310097574224 0.07660433852288123 [[ 9.73561964  9.18990407  9.12411867  8.84305963]\n",
      " [10.30274616 10.94367804  7.9897449   9.66049164]]\n"
     ]
    }
   ],
   "source": [
    "#隨機取數\n",
    "\n",
    "import numpy as np\n",
    "\n",
    "#nump.random.randn():隨機建立資料\n",
    "for i in range(10):\n",
    "    a = np.random.randn()\n",
    "    print(a,end=\" \")\n",
    "    \n",
    "#np.random.randn(row,col):\n",
    "a = np.random.randn(2,4)+9. #每一個陣列中的元素雖機產生後會加上9.99\n",
    "print(a)"
   ]
  },
  {
   "cell_type": "code",
   "execution_count": 7,
   "id": "97e0fd57",
   "metadata": {},
   "outputs": [
    {
     "name": "stdout",
     "output_type": "stream",
     "text": [
      "[15 15 10 17 11 12 14 14 11 11]\n",
      "5\n",
      "[[70 66 96 44 60 58]\n",
      " [71 70 95 74 35 58]\n",
      " [34 57 32 55 26 90]\n",
      " [65 36 65 50 96 45]\n",
      " [90 51 46 39 59 23]\n",
      " [31 42 43 42 47 56]]\n"
     ]
    }
   ],
   "source": [
    "#np.random.randint(Low,hight,size=x) size產出幾個\n",
    "\n",
    "a = np.random.randint(10,20,size=10)\n",
    "print(a)\n",
    "\n",
    "b = np.random.randint(10)\n",
    "print(b)\n",
    "\n",
    "a=np.random.randint(19,99,size=36)\n",
    "b = a.reshape(6,6)\n",
    "print(b)"
   ]
  },
  {
   "cell_type": "code",
   "execution_count": 16,
   "id": "f2388654",
   "metadata": {},
   "outputs": [
    {
     "name": "stdout",
     "output_type": "stream",
     "text": [
      "[[24 29 11]\n",
      " [15 27 19]\n",
      " [16 26 27]]\n",
      "\n",
      "[[51 42 45]\n",
      " [57 43 44]\n",
      " [40 42 44]]\n",
      "Array a 總和： 194\n",
      "Array b 總和： 408\n",
      "a最大值： 29 29\n",
      "b最大值： 57 57\n",
      "a最小值： 11\n",
      "b最小值： 40\n"
     ]
    }
   ],
   "source": [
    "a = np.random.randint(10,30,size=9).reshape(3,3)\n",
    "print(a)\n",
    "print()\n",
    "b = np.random.randint(40,60,size=9).reshape(3,3)\n",
    "print(b)\n",
    "\n",
    "#算array總和: 有numpy array 改用np.sum 速度運算非常快\n",
    "sum_all_a = np.sum(a)\n",
    "sum_all_b = np.sum(b)\n",
    "print('Array a 總和：', sum_all_a)\n",
    "print('Array b 總和：', sum_all_b)\n",
    "\n",
    "#最大值與最小值\n",
    "max_array_a = np.max(a)\n",
    "max_array_b = np.max(b)\n",
    "print(\"a最大值：\", max_array_a ,a.max())\n",
    "print(\"b最大值：\", max_array_b ,b.max())\n",
    "\n",
    "print(\"a最小值：\", np.min(a), a.min())\n",
    "print(\"b最小值：\", np.min(b), b.min())"
   ]
  },
  {
   "cell_type": "code",
   "execution_count": 25,
   "id": "852a4af6",
   "metadata": {},
   "outputs": [
    {
     "name": "stdout",
     "output_type": "stream",
     "text": [
      "[[50 21 84 58 86 24]\n",
      " [31 90 35 62 10 92]\n",
      " [98 85 16 55 25 55]\n",
      " [10 61 78 33 43 45]]\n",
      "列出每一個col的最大值： [98 90 84 62 86 92]\n",
      "列出每一個row的最大值： [86 92 98 78]\n",
      "列出每一個col的最小值： [10 21 16 33 10 24]\n",
      "列出每一個row的最小值： [21 10 16 10]\n",
      "列出每一個col的總和： [189 257 213 208 164 216]\n",
      "列出每一個row的總和： [323 320 334 270]\n"
     ]
    }
   ],
   "source": [
    "#axis=0: (對於每一個column做運算)\n",
    "#axis=1: (對於每一個row做運算)\n",
    "\n",
    "a = np.random.randint(10,99,size=24).reshape(4,6)\n",
    "print(a)\n",
    "print(\"列出每一個col的最大值：\", a.max(axis=0))\n",
    "print(\"列出每一個row的最大值：\", a.max(axis=1))\n",
    "\n",
    "print(\"列出每一個col的最小值：\", a.min(axis=0))\n",
    "print(\"列出每一個row的最小值：\", a.min(axis=1))\n",
    "\n",
    "print(\"列出每一個col的總和：\", a.sum(axis=0))\n",
    "print(\"列出每一個row的總和：\", a.sum(axis=1))"
   ]
  },
  {
   "cell_type": "code",
   "execution_count": 36,
   "id": "30cbe511",
   "metadata": {},
   "outputs": [
    {
     "name": "stdout",
     "output_type": "stream",
     "text": [
      "[[3 1 4 3 3 4]\n",
      " [3 2 3 1 1 3]\n",
      " [4 3 3 2 2 4]\n",
      " [2 2 2 1 2 4]]\n",
      "\n",
      "Array a的元素乘機:  859963392\n",
      "Array a的中位數:  2.5833333333333335\n",
      "Array a的標準差:  0.9965217285917832\n",
      "Array a的方差:  0.9930555555555557\n",
      "Array a的最大值:  4\n",
      "Array a的最小值:  1\n",
      "Array a的最大值的索引位置:  2\n",
      "Array a的最小值的索引位置:  1\n",
      "\n"
     ]
    }
   ],
   "source": [
    "a = np.random.randint(1,5,size=24).reshape(4,6)\n",
    "print(a)\n",
    "print()\n",
    "\n",
    "print(\"Array a的元素乘機: \",        a.prod())\n",
    "print(\"Array a的中位數: \",          a.mean())\n",
    "print(\"Array a的標準差: \",          a.std())\n",
    "print(\"Array a的方差: \",            a.var())\n",
    "print(\"Array a的最大值: \",          a.max())\n",
    "print(\"Array a的最小值: \",          a.min())\n",
    "print(\"Array a的最大值的索引位置: \",  a.argmax())\n",
    "print(\"Array a的最小值的索引位置: \",  a.argmin())"
   ]
  },
  {
   "cell_type": "code",
   "execution_count": 75,
   "id": "a181f50e",
   "metadata": {},
   "outputs": [
    {
     "name": "stdout",
     "output_type": "stream",
     "text": [
      "有幾頭豬: 3383747\n",
      "平均重量: 124.15736108521104\n",
      "平均價格: 76.41706164793037\n",
      "最多有: 1931\n",
      "最多豬的重量: 127.53\n",
      "最多豬的價錢: 76.88\n",
      "747.5817674325009\n",
      "94263.43306232456\n",
      "57313.825174051555\n"
     ]
    }
   ],
   "source": [
    "import csv\n",
    "import numpy as np\n",
    "\n",
    "filename = \"data301_2017年全年毛豬交易行情資料.csv\"\n",
    "\n",
    "with open(filename, 'r', encoding=\"utf-8\") as fp:\n",
    "    data = csv.reader(fp)\n",
    "    data = list(data)\n",
    "    data.pop(0) \n",
    "#print(data)\n",
    "\n",
    " \n",
    "npdata = np.array(data)\n",
    "\n",
    "\n",
    "pig = npdata[:,0]\n",
    "pig = pig.astype(int)\n",
    "print(\"有幾頭豬:\",sum(pig))\n",
    "\n",
    "weight = npdata[:,1]\n",
    "weight = weight.astype(float)\n",
    "all_weight=pig*weight\n",
    "print(\"平均重量:\",sum(all_weight)/sum(pig))\n",
    "\n",
    "price = npdata[:,2]\n",
    "price = price.astype(float)\n",
    "all_price=pig*price\n",
    "a_p = sum(all_weight)/sum(pig)\n",
    "print(\"平均價格:\",sum(all_price)/sum(pig))\n",
    "\n",
    "big_pig = pig.argmax()\n",
    "print(\"最多有:\",big_pig)\n",
    "bpw = npdata[big_pig:big_pig+1,1]\n",
    "bpp = npdata[big_pig:big_pig+1,2]\n",
    "bpw = bpw.astype(float)\n",
    "bpp = bpp.astype(float)\n",
    "print(\"最多豬的重量:\",sum(bpw))\n",
    "print(\"最多豬的價錢:\",sum(bpp))\n",
    "\n",
    "print(pig.std())\n",
    "print(all_weight.std())\n",
    "print(all_price.std())"
   ]
  },
  {
   "cell_type": "markdown",
   "id": "f20c7a46",
   "metadata": {},
   "source": [
    "1. 眾數: 一群數據中，出現最多次的數資叫做眾數 [2,2,2,2,2,2,4,5,6,7,4,8] =>2出現最多次，眾數=2\n",
    "2. 中位數: 將一群數據中從小到大排列，取正中間位置的數 \n",
    "    (數量是奇數的時，中位數排序在中正中間的數) (數量是偶數時，中位數排序在正中間兩數的平均)\n",
    "        77, 62, 72, 85, 62, 67, 51, 77\n",
    "    * step1:  51, 62, 62, 67, 72, 77, 77, 85\n",
    "    * step2:  int((0+7)/2) = 3 index=3與4的數字來做相加除以2: (67+72)/2 = 69.5\n",
    "3. 平均數: 把所有數字加總除以個數\n"
   ]
  },
  {
   "cell_type": "markdown",
   "id": "72788ec0",
   "metadata": {},
   "source": [
    "4. 區間代表數: 用一個數字來代表數據的集中情形，表示數據分散情形\n",
    "   * 如果區間代表書小，代表書句比較集中\n",
    "   * 如果區間代表書大，代表書句比較分散\n",
    "   \n",
    "    區間代表數: 標準差\n",
    "     1. 變異數: 所有離均差平方的算術平均數 \n",
    "     2. 標準差: 將變異數取平方根\n",
    "     \n",
    "    數據: 1 3 7 9 10\n",
    "    \n",
    "    (1)算術平均數: (1+3+7+9+10)/5=6\n",
    "    (2)變異數: ((1-6)^2 + (3-6)^2 + (7-6)^2 + (9-6)^2 + (10-6)^2 )/5 = 12\n",
    "    (3)標準差: 12平方根 = 3.46\n",
    "    \n",
    "    資料分析時會用標準差來檢查資料，如果標準差很大，代表資料有極值，額外處理否則會影響到整個數據\n"
   ]
  },
  {
   "cell_type": "code",
   "execution_count": null,
   "id": "df3ea466",
   "metadata": {},
   "outputs": [],
   "source": []
  }
 ],
 "metadata": {
  "kernelspec": {
   "display_name": "Python 3 (ipykernel)",
   "language": "python",
   "name": "python3"
  },
  "language_info": {
   "codemirror_mode": {
    "name": "ipython",
    "version": 3
   },
   "file_extension": ".py",
   "mimetype": "text/x-python",
   "name": "python",
   "nbconvert_exporter": "python",
   "pygments_lexer": "ipython3",
   "version": "3.11.7"
  }
 },
 "nbformat": 4,
 "nbformat_minor": 5
}
